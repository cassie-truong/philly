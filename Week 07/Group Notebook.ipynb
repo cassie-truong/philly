{
 "cells": [
  {
   "cell_type": "markdown",
   "id": "9197c093-1dd3-4c71-ac2b-27d2a9ae7bb3",
   "metadata": {},
   "source": [
    "# Group Assignment 3: Philly Cheesesteaks"
   ]
  },
  {
   "cell_type": "markdown",
   "id": "d1e190a6-01cc-479f-b087-0e6758d0f720",
   "metadata": {},
   "source": [
    "### Team: Olivia Arena, Deja McCauley, Lindsey Morris, Cassie Truong\n"
   ]
  },
  {
   "cell_type": "markdown",
   "id": "5add42b2-eb5e-4dc6-8cef-1a82ec7c1c37",
   "metadata": {},
   "source": [
    "## Research Question"
   ]
  },
  {
   "cell_type": "markdown",
   "id": "ea9879c4-adb1-4a04-ad24-c20fcabcd89d",
   "metadata": {},
   "source": [
    "In terms of public health, affordable housing, amenities, and open space, what community needs emerge as a priority for North Philadelphia’s Logan neighborhood when using indicators (race, unemployment, food accessibility, open space access, and housing) to compare the area to the city as a whole?"
   ]
  },
  {
   "cell_type": "markdown",
   "id": "e14768d6-4105-4eb3-9ef5-78c3296b5c97",
   "metadata": {},
   "source": [
    "test"
   ]
  }
 ],
 "metadata": {
  "kernelspec": {
   "display_name": "Python 3 (ipykernel)",
   "language": "python",
   "name": "python3"
  },
  "language_info": {
   "codemirror_mode": {
    "name": "ipython",
    "version": 3
   },
   "file_extension": ".py",
   "mimetype": "text/x-python",
   "name": "python",
   "nbconvert_exporter": "python",
   "pygments_lexer": "ipython3",
   "version": "3.10.8"
  },
  "toc-showcode": true
 },
 "nbformat": 4,
 "nbformat_minor": 5
}
